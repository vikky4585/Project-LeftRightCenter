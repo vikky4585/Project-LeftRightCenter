{
 "cells": [
  {
   "cell_type": "code",
   "execution_count": 2,
   "metadata": {},
   "outputs": [],
   "source": [
    "import numpy as np\n",
    "import pandas as pd\n",
    "from sklearn import tree\n",
    "import matplotlib.pyplot as plt\n",
    "pd.set_option('display.max_columns', 500)"
   ]
  },
  {
   "cell_type": "code",
   "execution_count": 3,
   "metadata": {},
   "outputs": [],
   "source": [
    "df = pd.read_csv('data/liwc_categorical_scores_full.csv') \n",
    "X = df[ ['achieve','adj', 'adverb', 'affect', 'affiliation', 'anger', 'anx', 'article', 'assent', 'auxverb', 'bio', 'body', 'cause','certain', 'cogproc', 'compare', 'conj', 'death', 'differ', 'discrep', 'drives', 'family','feel', 'female', 'filler', 'focusfuture', 'focuspast', 'focuspresent','friend', 'function', 'health', 'hear', 'home', 'i', 'informal', 'ingest', 'insight', 'interrog', 'ipron','leisure', 'male', 'money', 'motion', 'negate', 'negemo', 'netspeak', 'nonflu', 'number', 'percept', 'posemo', 'power','ppron', 'prep', 'pronoun', 'quant', 'relativ', 'relig','reward', 'risk', 'sad', 'see','sexual', 'shehe', 'social', 'space', 'swear', 'tentat', 'they', 'time', 'verb', 'we','work', 'you']]\n",
    "feature_names = X.columns\n",
    "y = df['party']\n",
    "feature_list = list(X)"
   ]
  },
  {
   "cell_type": "code",
   "execution_count": 4,
   "metadata": {},
   "outputs": [],
   "source": [
    "from sklearn.model_selection import train_test_split\n",
    "X_train, X_test, y_train, y_test = train_test_split(X, y, random_state=42)"
   ]
  },
  {
   "cell_type": "code",
   "execution_count": 5,
   "metadata": {},
   "outputs": [
    {
     "name": "stderr",
     "output_type": "stream",
     "text": [
      "[Parallel(n_jobs=-1)]: Using backend ThreadingBackend with 4 concurrent workers.\n",
      "[Parallel(n_jobs=-1)]: Done  42 tasks      | elapsed:    0.2s\n",
      "[Parallel(n_jobs=-1)]: Done 100 out of 100 | elapsed:    0.7s finished\n"
     ]
    },
    {
     "data": {
      "text/plain": [
       "RandomForestClassifier(bootstrap=True, class_weight=None, criterion='gini',\n",
       "            max_depth=None, max_features='sqrt', max_leaf_nodes=None,\n",
       "            min_impurity_decrease=0.0, min_impurity_split=None,\n",
       "            min_samples_leaf=1, min_samples_split=2,\n",
       "            min_weight_fraction_leaf=0.0, n_estimators=100, n_jobs=-1,\n",
       "            oob_score=False, random_state=None, verbose=1,\n",
       "            warm_start=False)"
      ]
     },
     "execution_count": 5,
     "metadata": {},
     "output_type": "execute_result"
    }
   ],
   "source": [
    "from sklearn.ensemble import RandomForestClassifier\n",
    "model = RandomForestClassifier(n_estimators=100,  \n",
    "max_features = 'sqrt',  \n",
    "n_jobs=-1, verbose = 1)\n",
    "\n",
    "# Fit on training data\n",
    "\n",
    "model.fit(X_train, y_train)  "
   ]
  },
  {
   "cell_type": "code",
   "execution_count": 6,
   "metadata": {},
   "outputs": [
    {
     "name": "stderr",
     "output_type": "stream",
     "text": [
      "[Parallel(n_jobs=4)]: Using backend ThreadingBackend with 4 concurrent workers.\n",
      "[Parallel(n_jobs=4)]: Done  42 tasks      | elapsed:    0.0s\n",
      "[Parallel(n_jobs=4)]: Done 100 out of 100 | elapsed:    0.0s finished\n",
      "[Parallel(n_jobs=4)]: Using backend ThreadingBackend with 4 concurrent workers.\n",
      "[Parallel(n_jobs=4)]: Done  42 tasks      | elapsed:    0.0s\n",
      "[Parallel(n_jobs=4)]: Done 100 out of 100 | elapsed:    0.1s finished\n"
     ]
    }
   ],
   "source": [
    "rf_predictions = model.predict(X_test) \n",
    "rf_probs = model.predict_proba(X_test)[:, 1]"
   ]
  },
  {
   "cell_type": "code",
   "execution_count": 7,
   "metadata": {},
   "outputs": [
    {
     "data": {
      "text/plain": [
       "880"
      ]
     },
     "execution_count": 7,
     "metadata": {},
     "output_type": "execute_result"
    }
   ],
   "source": [
    "\n",
    "pred_bi_y = []\n",
    "for i in rf_predictions:\n",
    "    if i == 'republicans':\n",
    "        v =1\n",
    "        pred_bi_y.append(v)\n",
    "    if i == 'democrats':\n",
    "        v =0\n",
    "        pred_bi_y.append(v)\n",
    "    else:\n",
    "        pass\n",
    "    \n",
    "len(pred_bi_y)"
   ]
  },
  {
   "cell_type": "code",
   "execution_count": 8,
   "metadata": {},
   "outputs": [
    {
     "data": {
      "text/plain": [
       "880"
      ]
     },
     "execution_count": 8,
     "metadata": {},
     "output_type": "execute_result"
    }
   ],
   "source": [
    "real_bi_y = []\n",
    "for i in y_test:\n",
    "    if i == 'republicans':\n",
    "        v =1\n",
    "        real_bi_y.append(v)\n",
    "    if i == 'democrats':\n",
    "        v =0\n",
    "        real_bi_y.append(v)\n",
    "    else:\n",
    "        pass\n",
    "    \n",
    "len(real_bi_y)"
   ]
  },
  {
   "cell_type": "code",
   "execution_count": 9,
   "metadata": {},
   "outputs": [
    {
     "data": {
      "text/plain": [
       "0.9057784120394395"
      ]
     },
     "execution_count": 9,
     "metadata": {},
     "output_type": "execute_result"
    }
   ],
   "source": [
    "from sklearn.metrics import roc_auc_score\n",
    "roc_value = roc_auc_score(real_bi_y, rf_probs)\n",
    "roc_value"
   ]
  },
  {
   "cell_type": "code",
   "execution_count": 10,
   "metadata": {},
   "outputs": [
    {
     "data": {
      "text/plain": [
       "0.8138728323699422"
      ]
     },
     "execution_count": 10,
     "metadata": {},
     "output_type": "execute_result"
    }
   ],
   "source": [
    "from sklearn.metrics import f1_score\n",
    "f1_value = f1_score(real_bi_y, pred_bi_y)\n",
    "f1_value"
   ]
  },
  {
   "cell_type": "code",
   "execution_count": 35,
   "metadata": {},
   "outputs": [
    {
     "data": {
      "text/plain": [
       "0.7736263736263737"
      ]
     },
     "execution_count": 35,
     "metadata": {},
     "output_type": "execute_result"
    }
   ],
   "source": [
    "from sklearn.metrics import precision_score\n",
    "precision_score = precision_score(real_bi_y, pred_bi_y)\n",
    "precision_score"
   ]
  },
  {
   "cell_type": "code",
   "execution_count": 42,
   "metadata": {},
   "outputs": [
    {
     "name": "stdout",
     "output_type": "stream",
     "text": [
      "              precision    recall  f1-score   support\n",
      "\n",
      " republicans       0.86      0.78      0.82       470\n",
      "   democrats       0.77      0.86      0.81       410\n",
      "\n",
      "   micro avg       0.82      0.82      0.82       880\n",
      "   macro avg       0.82      0.82      0.82       880\n",
      "weighted avg       0.82      0.82      0.82       880\n",
      "\n"
     ]
    }
   ],
   "source": [
    "from  sklearn.metrics import classification_report\n",
    ">>> target_names = [ 'republicans','democrats']\n",
    ">>> print(classification_report(real_bi_y, pred_bi_y, target_names=target_names))"
   ]
  },
  {
   "cell_type": "code",
   "execution_count": 12,
   "metadata": {},
   "outputs": [],
   "source": [
    "#from keras.models #import load_model\n",
    "from treeinterpreter import treeinterpreter as ti\n",
    "# fit a scikit-learn's regressor model\n",
    "\n",
    "# rf = RandomForestRegressor()\n",
    "\n",
    "# rf.fit(trainX, trainY)\n",
    "\n",
    "prediction, bias, contributions = ti.predict(model, X_test)\n"
   ]
  },
  {
   "cell_type": "code",
   "execution_count": 13,
   "metadata": {},
   "outputs": [
    {
     "data": {
      "text/plain": [
       "array([0.21, 0.79])"
      ]
     },
     "execution_count": 13,
     "metadata": {},
     "output_type": "execute_result"
    }
   ],
   "source": [
    "prediction[0]"
   ]
  },
  {
   "cell_type": "code",
   "execution_count": 14,
   "metadata": {},
   "outputs": [
    {
     "data": {
      "text/plain": [
       "array([0.48935227, 0.51064773])"
      ]
     },
     "execution_count": 14,
     "metadata": {},
     "output_type": "execute_result"
    }
   ],
   "source": [
    "bias[0]"
   ]
  },
  {
   "cell_type": "code",
   "execution_count": 15,
   "metadata": {},
   "outputs": [
    {
     "data": {
      "text/plain": [
       "array([[-0.00230395,  0.00230395],\n",
       "       [-0.00372617,  0.00372617],\n",
       "       [-0.00627668,  0.00627668],\n",
       "       [ 0.00521535, -0.00521535],\n",
       "       [ 0.04626087, -0.04626087],\n",
       "       [-0.00361773,  0.00361773],\n",
       "       [-0.0199644 ,  0.0199644 ],\n",
       "       [-0.0075175 ,  0.0075175 ],\n",
       "       [ 0.00221837, -0.00221837],\n",
       "       [-0.0073131 ,  0.0073131 ],\n",
       "       [-0.00525483,  0.00525483],\n",
       "       [-0.00619522,  0.00619522],\n",
       "       [ 0.00044824, -0.00044824],\n",
       "       [-0.03773163,  0.03773163],\n",
       "       [-0.04236452,  0.04236452],\n",
       "       [-0.01450481,  0.01450481],\n",
       "       [ 0.01184107, -0.01184107],\n",
       "       [ 0.0009458 , -0.0009458 ],\n",
       "       [-0.04952243,  0.04952243],\n",
       "       [-0.0568896 ,  0.0568896 ],\n",
       "       [-0.00502737,  0.00502737],\n",
       "       [-0.00265983,  0.00265983],\n",
       "       [ 0.01227757, -0.01227757],\n",
       "       [-0.01691689,  0.01691689],\n",
       "       [ 0.        ,  0.        ],\n",
       "       [-0.00312527,  0.00312527],\n",
       "       [-0.00413803,  0.00413803],\n",
       "       [-0.00906244,  0.00906244],\n",
       "       [-0.00283871,  0.00283871],\n",
       "       [-0.00506803,  0.00506803],\n",
       "       [-0.00504896,  0.00504896],\n",
       "       [ 0.00497149, -0.00497149],\n",
       "       [ 0.00135022, -0.00135022],\n",
       "       [-0.00373542,  0.00373542],\n",
       "       [-0.00060013,  0.00060013],\n",
       "       [ 0.01526816, -0.01526816],\n",
       "       [ 0.00155239, -0.00155239],\n",
       "       [ 0.00397585, -0.00397585],\n",
       "       [-0.00226889,  0.00226889],\n",
       "       [ 0.00225917, -0.00225917],\n",
       "       [-0.0027202 ,  0.0027202 ],\n",
       "       [ 0.01221666, -0.01221666],\n",
       "       [-0.01231129,  0.01231129],\n",
       "       [-0.052467  ,  0.052467  ],\n",
       "       [-0.02849962,  0.02849962],\n",
       "       [-0.00126416,  0.00126416],\n",
       "       [-0.00021729,  0.00021729],\n",
       "       [ 0.00068862, -0.00068862],\n",
       "       [-0.00316771,  0.00316771],\n",
       "       [ 0.00625523, -0.00625523],\n",
       "       [ 0.00091181, -0.00091181],\n",
       "       [ 0.01188188, -0.01188188],\n",
       "       [ 0.0110194 , -0.0110194 ],\n",
       "       [ 0.00848257, -0.00848257],\n",
       "       [-0.00497727,  0.00497727],\n",
       "       [-0.00563431,  0.00563431],\n",
       "       [-0.01556806,  0.01556806],\n",
       "       [ 0.011657  , -0.011657  ],\n",
       "       [-0.01252786,  0.01252786],\n",
       "       [-0.0034962 ,  0.0034962 ],\n",
       "       [ 0.00017912, -0.00017912],\n",
       "       [-0.00192446,  0.00192446],\n",
       "       [-0.00247433,  0.00247433],\n",
       "       [ 0.01978159, -0.01978159],\n",
       "       [-0.00721758,  0.00721758],\n",
       "       [-0.00124493,  0.00124493],\n",
       "       [ 0.00057934, -0.00057934],\n",
       "       [ 0.00082275, -0.00082275],\n",
       "       [-0.00174435,  0.00174435],\n",
       "       [-0.01242454,  0.01242454],\n",
       "       [ 0.00474977, -0.00474977],\n",
       "       [ 0.01005671, -0.01005671],\n",
       "       [ 0.00633444, -0.00633444]])"
      ]
     },
     "execution_count": 15,
     "metadata": {},
     "output_type": "execute_result"
    }
   ],
   "source": [
    "contributions[0]"
   ]
  },
  {
   "cell_type": "code",
   "execution_count": 16,
   "metadata": {},
   "outputs": [
    {
     "data": {
      "text/plain": [
       "[(0.05718203241990027, 'discrep'),\n",
       " (0.0551682692912299, 'differ'),\n",
       " (0.04954544467955745, 'negate'),\n",
       " (0.04886799821519201, 'cogproc'),\n",
       " (0.04457961200337582, 'negemo'),\n",
       " (0.03476452767647215, 'anger'),\n",
       " (0.028180834096643455, 'relig'),\n",
       " (0.026588168408912836, 'female'),\n",
       " (0.023397483672626517, 'posemo'),\n",
       " (0.021778846289986817, 'certain'),\n",
       " (0.020104268336264237, 'anx'),\n",
       " (0.01765096618971216, 'bio'),\n",
       " (0.01715432804730215, 'risk'),\n",
       " (0.014953380671054242, 'auxverb'),\n",
       " (0.014788118328667136, 'verb'),\n",
       " (0.014527293470443438, 'health'),\n",
       " (0.013465075123068264, 'space'),\n",
       " (0.013181088703341608, 'reward'),\n",
       " (0.013096210790782652, 'hear'),\n",
       " (0.012681107191084985, 'work'),\n",
       " (0.012546487372289437, 'leisure'),\n",
       " (0.012434756217489313, 'article'),\n",
       " (0.01183700890306837, 'social'),\n",
       " (0.011108372914262421, 'relativ'),\n",
       " (0.011039979123830552, 'motion'),\n",
       " (0.011038033505491797, 'family'),\n",
       " (0.011009455225521231, 'focuspresent'),\n",
       " (0.010840779466479435, 'affect'),\n",
       " (0.010716365185731713, 'affiliation'),\n",
       " (0.010475284174800734, 'sad'),\n",
       " (0.01046133031364231, 'i'),\n",
       " (0.010341162500634344, 'focuspast'),\n",
       " (0.010250510785438165, 'money'),\n",
       " (0.010157899036083521, 'tentat'),\n",
       " (0.009841428328858514, 'drives'),\n",
       " (0.009534630308825884, 'percept'),\n",
       " (0.00950465174851406, 'compare'),\n",
       " (0.0094186317997881, 'ingest'),\n",
       " (0.009348167217711818, 'adverb'),\n",
       " (0.009210582353601709, 'feel'),\n",
       " (0.009028869898601037, 'power'),\n",
       " (0.008887039686543058, 'body'),\n",
       " (0.0088408074971646, 'focusfuture'),\n",
       " (0.008805960057918156, 'adj'),\n",
       " (0.008804881180898347, 'shehe'),\n",
       " (0.008650320426061118, 'pronoun'),\n",
       " (0.008544568655460607, 'prep'),\n",
       " (0.008530035077994477, 'home'),\n",
       " (0.008516689165187654, 'see'),\n",
       " (0.008493698227867174, 'you'),\n",
       " (0.008417208018400084, 'achieve'),\n",
       " (0.008385145528270202, 'ipron'),\n",
       " (0.008295133093230475, 'male'),\n",
       " (0.008230903509373506, 'function'),\n",
       " (0.00814820943501259, 'conj'),\n",
       " (0.008121330249375561, 'they'),\n",
       " (0.008064504416616153, 'death'),\n",
       " (0.008017148819504587, 'interrog'),\n",
       " (0.0077182197260571095, 'time'),\n",
       " (0.007698043459206683, 'informal'),\n",
       " (0.007586227389342174, 'number'),\n",
       " (0.007522871566688095, 'we'),\n",
       " (0.007506131876177355, 'quant'),\n",
       " (0.00737416799739753, 'ppron'),\n",
       " (0.007368168717235951, 'netspeak'),\n",
       " (0.007344151640364171, 'insight'),\n",
       " (0.00731245656624639, 'cause'),\n",
       " (0.0072444513384111705, 'friend'),\n",
       " (0.006430221770430543, 'nonflu'),\n",
       " (0.005609816523532225, 'assent'),\n",
       " (0.004878904738314751, 'sexual'),\n",
       " (0.002507215540800194, 'swear'),\n",
       " (0.00034592811863470683, 'filler')]"
      ]
     },
     "execution_count": 16,
     "metadata": {},
     "output_type": "execute_result"
    }
   ],
   "source": [
    "sorted(zip(model.feature_importances_, feature_names), reverse=True)"
   ]
  },
  {
   "cell_type": "code",
   "execution_count": 34,
   "metadata": {},
   "outputs": [],
   "source": [
    "# Import tools needed for visualization\n",
    "import os\n",
    "os.environ[\"PATH\"] += os.pathsep + 'C:/Program Files (x86)/Graphviz2.38/bin/'\n",
    "from sklearn.tree import export_graphviz\n",
    "import pydot\n",
    "import graphviz\n",
    "# Pull out one tree from the forest\n",
    "tree = model.estimators_[5]\n",
    "# Export the image to a dot file\n",
    "export_graphviz(tree, out_file = 'tree.dot', feature_names = feature_list, class_names = ( 'republicans','democrats'),filled = True,rounded = True)\n",
    "# Use dot file to create a graph\n",
    "(graph, ) = pydot.graph_from_dot_file('tree.dot')\n",
    "# Write graph to a png file\n",
    "graph.write_png('tree.png')"
   ]
  },
  {
   "cell_type": "code",
   "execution_count": null,
   "metadata": {},
   "outputs": [],
   "source": []
  }
 ],
 "metadata": {
  "kernelspec": {
   "display_name": "Python 2",
   "language": "python",
   "name": "python2"
  },
  "language_info": {
   "codemirror_mode": {
    "name": "ipython",
    "version": 2
   },
   "file_extension": ".py",
   "mimetype": "text/x-python",
   "name": "python",
   "nbconvert_exporter": "python",
   "pygments_lexer": "ipython2",
   "version": "2.7.15"
  }
 },
 "nbformat": 4,
 "nbformat_minor": 2
}
